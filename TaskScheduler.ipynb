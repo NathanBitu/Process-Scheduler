{
 "cells": [
  {
   "cell_type": "code",
   "execution_count": 2,
   "metadata": {},
   "outputs": [],
   "source": [
    "processes = {}\n",
    "while True:\n",
    "    process_name = input('Insira o nome do processo: ')\n",
    "    start_time = int(input('Insira o tempo de inicio: '))\n",
    "    duration = int(input('Insira a duração do processo: '))\n",
    "    priority = int(input('Insira a prioridade: '))\n",
    "\n",
    "    processes[process_name] = [start_time, duration, priority]\n",
    "\n",
    "    continuar = input('Continuar? S/N: ')\n",
    "    if continuar.upper() == 'N':\n",
    "        break\n"
   ]
  },
  {
   "cell_type": "code",
   "execution_count": 3,
   "metadata": {},
   "outputs": [
    {
     "data": {
      "text/plain": [
       "{'p1': [1, 3, 2], 'p2': [2, 5, 2]}"
      ]
     },
     "execution_count": 3,
     "metadata": {},
     "output_type": "execute_result"
    }
   ],
   "source": [
    "processes #test"
   ]
  }
 ],
 "metadata": {
  "kernelspec": {
   "display_name": "Python 3",
   "language": "python",
   "name": "python3"
  },
  "language_info": {
   "codemirror_mode": {
    "name": "ipython",
    "version": 3
   },
   "file_extension": ".py",
   "mimetype": "text/x-python",
   "name": "python",
   "nbconvert_exporter": "python",
   "pygments_lexer": "ipython3",
   "version": "3.10.1"
  },
  "orig_nbformat": 4
 },
 "nbformat": 4,
 "nbformat_minor": 2
}
